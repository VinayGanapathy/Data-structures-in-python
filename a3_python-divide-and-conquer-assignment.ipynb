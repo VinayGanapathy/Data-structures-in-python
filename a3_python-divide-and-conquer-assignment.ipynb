{
 "cells": [
  {
   "cell_type": "markdown",
   "id": "difficult-valuation",
   "metadata": {},
   "source": [
    "# Assignment 3 - Divide-n-Conquer Algorithms in Python\n",
    "\n",
    "_This assignment is a part of the course [\"Data Structures and Algorithms in Python\"](https://jovian.ai/learn/data-structures-and-algorithms-in-python)._\n",
    "\n",
    "In this assignment, you will implement an efficient algorithm for polynomial multiplication.\n",
    "\n",
    "As you go through this notebook, you will find the symbol **???** in certain places. To complete this assignment, you must replace all the **???** with appropriate values, expressions or statements to ensure that the notebook runs properly end-to-end. \n",
    "\n",
    "**Guidelines**\n",
    "\n",
    "1. Make sure to run all the code cells, otherwise you may get errors like `NameError` for undefined variables.\n",
    "2. Do not change variable names, delete cells or disturb other existing code. It may cause problems during evaluation.\n",
    "3. In some cases, you may need to add some code cells or new statements before or after the line of code containing the **???**. \n",
    "4. Since you'll be using a temporary online service for code execution, save your work by running `jovian.commit` at regular intervals.\n",
    "5. Questions marked **(Optional)** will not be considered for evaluation, and can be skipped. They are for your learning.\n",
    "6. If you are stuck, you can ask for help on the [community forum] (TODO - add link). Post errors or ask for hints, but **please don't ask for OR share the full working answer code** on the forum.\n",
    "7. There are some tests included with this notebook to help you test your implementation. However, after submission your code will be tested with some hidden test cases. Make sure to test your code exhaustively to cover all edge cases.\n",
    "\n",
    "\n",
    "**Important Links**\n",
    "\n",
    "* Submit your work here: https://jovian.ai/learn/data-structures-and-algorithms-in-python/assignment/assignment-3-sorting-and-divide-conquer-practice\n",
    "* Ask questions and get help: https://jovian.ai/forum/c/data-structures-and-algorithms-in-python/assignment-3/89\n",
    "* Lesson 3 video for review: https://jovian.ai/learn/data-structures-and-algorithms-in-python/lesson/lesson-3-sorting-algorithms-and-divide-and-conquer\n",
    "* Lesson 3 notebook for review: https://jovian.ai/aakashns/python-sorting-divide-and-conquer\n"
   ]
  },
  {
   "cell_type": "markdown",
   "id": "japanese-beverage",
   "metadata": {},
   "source": [
    "### How to Run the Code and Save Your Work\n",
    "\n",
    "**Option 1: Running using free online resources (1-click, recommended)**: Click the **Run** button at the top of this page and select **Run on Binder**. You can also select \"Run on Colab\" or \"Run on Kaggle\", but you'll need to create an account on [Google Colab](https://colab.research.google.com) or [Kaggle](https://kaggle.com) to use these platforms.\n",
    "\n",
    "\n",
    "**Option 2: Running on your computer locally**: To run the code on your computer locally, you'll need to set up [Python](https://www.python.org) & [Conda](https://docs.conda.io/projects/conda/en/latest/user-guide/install/), download the notebook and install the required libraries. Click the **Run** button at the top of this page, select the **Run Locally** option, and follow the instructions.\n",
    "\n",
    "**Saving your work**: You can save a snapshot of the assignment to your [Jovian](https://jovian.ai) profile, so that you can access it later and continue your work. Keep saving your work by running `jovian.commit` from time to time."
   ]
  },
  {
   "cell_type": "code",
   "execution_count": 1,
   "id": "revised-italy",
   "metadata": {},
   "outputs": [],
   "source": [
    "project='python-divide-and-conquer-assignment'"
   ]
  },
  {
   "cell_type": "code",
   "execution_count": 2,
   "id": "genuine-simon",
   "metadata": {},
   "outputs": [],
   "source": [
    "!pip install jovian --upgrade --quiet"
   ]
  },
  {
   "cell_type": "code",
   "execution_count": 3,
   "id": "velvet-extraction",
   "metadata": {},
   "outputs": [
    {
     "data": {
      "application/javascript": [
       "window.require && require([\"base/js/namespace\"],function(Jupyter){Jupyter.notebook.save_checkpoint()})"
      ],
      "text/plain": [
       "<IPython.core.display.Javascript object>"
      ]
     },
     "metadata": {},
     "output_type": "display_data"
    },
    {
     "name": "stdout",
     "output_type": "stream",
     "text": [
      "[jovian] Updating notebook \"vinayganapathy/python-divide-and-conquer-assignment\" on https://jovian.ai\u001b[0m\n",
      "[jovian] Committed successfully! https://jovian.ai/vinayganapathy/python-divide-and-conquer-assignment\u001b[0m\n"
     ]
    },
    {
     "data": {
      "text/plain": [
       "'https://jovian.ai/vinayganapathy/python-divide-and-conquer-assignment'"
      ]
     },
     "execution_count": 3,
     "metadata": {},
     "output_type": "execute_result"
    }
   ],
   "source": [
    "import jovian\n",
    "jovian.commit(project=project, privacy='secret', environment=None)"
   ]
  },
  {
   "cell_type": "markdown",
   "id": "final-database",
   "metadata": {},
   "source": [
    "## Problem Statement - Polynomial Multiplication\n",
    "\n",
    "> Given two polynomials represented by two lists, write a function that efficiently multiplies given two polynomials. For example, the lists `[2, 0, 5, 7]` and `[3, 4, 2]` represent the polynomials $2 + 5x^2 + 7x^3$ and $3 + 4x + 2x^2$. \n",
    "> \n",
    "> Their product is \n",
    ">\n",
    "> $(2 \\times 3) + (2 \\times 4 + 0 \\times 3)x + (2 \\times 2 + 3 \\times 5 + 4 \\times 0)x^2 + (7 \\times 3 + 5 \\times 4 + 0 \\times 2)x^3 + (7 \\times 4 + 5 \\times 2)x^4 + (7 \\times 2)x^5$ i.e. \n",
    ">\n",
    ">$6 + 8x + 19x^2 + 41x^3 + 38x^4 + 14x^5$\n",
    "> \n",
    ">It can be represented by the list `[6, 8, 19, 41, 38, 14]`.\n"
   ]
  },
  {
   "cell_type": "markdown",
   "id": "completed-evolution",
   "metadata": {},
   "source": [
    "## The Method\n",
    "\n",
    "Here's the systematic strategy we'll apply for solving problems:\n",
    "\n",
    "1. State the problem clearly. Identify the input & output formats.\n",
    "2. Come up with some example inputs & outputs. Try to cover all edge cases.\n",
    "3. Come up with a correct solution for the problem. State it in plain English.\n",
    "4. Implement the solution and test it using example inputs. Fix bugs, if any.\n",
    "5. Analyze the algorithm's complexity and identify inefficiencies, if any.\n",
    "6. Apply the right technique to overcome the inefficiency. Repeat steps 3 to 6.\n",
    "\n",
    "This approach is explained in detail in [Lesson 1](https://jovian.ai/learn/data-structures-and-algorithms-in-python/lesson/lesson-1-binary-search-linked-lists-and-complexity) of the course. Let's apply this approach step-by-step."
   ]
  },
  {
   "cell_type": "markdown",
   "id": "compressed-intellectual",
   "metadata": {},
   "source": [
    "## Solution\n",
    "\n",
    "\n",
    "### 1. State the problem clearly. Identify the input & output formats.\n",
    "\n",
    "While this problem is stated clearly enough, it's always useful to try and express in your own words, in a way that makes it most clear for you. \n",
    "\n",
    "\n",
    "**Problem**\n",
    "\n",
    "> We need to write a program that can perform the product of two polynomials (express the problem clearly in our own words, and in abstract terms\n",
    "\n",
    "<br/>\n",
    "\n",
    "\n",
    "**Input**\n",
    "\n",
    "1. poly1\n",
    "2. poly2\n",
    "\n",
    "\n",
    "\n",
    "**Output**\n",
    "\n",
    "1.multiply (That gives the polynomial product of poly1 and poly2)\n",
    "\n",
    "\n",
    "<br/>\n",
    "\n",
    "Based on the above, we can now create a signature of our function:"
   ]
  },
  {
   "cell_type": "code",
   "execution_count": 4,
   "id": "frank-professor",
   "metadata": {},
   "outputs": [],
   "source": [
    "def multiply(poly1, poly2):\n",
    "    pass"
   ]
  },
  {
   "cell_type": "code",
   "execution_count": 5,
   "id": "unauthorized-amendment",
   "metadata": {},
   "outputs": [],
   "source": [
    "import jovian"
   ]
  },
  {
   "cell_type": "code",
   "execution_count": 6,
   "id": "exposed-extension",
   "metadata": {},
   "outputs": [
    {
     "data": {
      "application/javascript": [
       "window.require && require([\"base/js/namespace\"],function(Jupyter){Jupyter.notebook.save_checkpoint()})"
      ],
      "text/plain": [
       "<IPython.core.display.Javascript object>"
      ]
     },
     "metadata": {},
     "output_type": "display_data"
    },
    {
     "name": "stdout",
     "output_type": "stream",
     "text": [
      "[jovian] Updating notebook \"vinayganapathy/python-divide-and-conquer-assignment\" on https://jovian.ai\u001b[0m\n",
      "[jovian] Committed successfully! https://jovian.ai/vinayganapathy/python-divide-and-conquer-assignment\u001b[0m\n"
     ]
    },
    {
     "data": {
      "text/plain": [
       "'https://jovian.ai/vinayganapathy/python-divide-and-conquer-assignment'"
      ]
     },
     "execution_count": 6,
     "metadata": {},
     "output_type": "execute_result"
    }
   ],
   "source": [
    "jovian.commit()"
   ]
  },
  {
   "cell_type": "markdown",
   "id": "latin-choir",
   "metadata": {},
   "source": [
    "### 2. Come up with some example inputs & outputs. Try to cover all edge cases.\n",
    "\n",
    "Our function should be able to handle any set of valid inputs we pass into it. List a few scenarios here:\n",
    "\n",
    "1. Input poly1 doesn't have a linear 'x' term\n",
    "2. Inputs poly1 and poly2 having only one term\n",
    "3. Inputs poly1 and poly2 having null lists\n",
    "4. poly1 and poly2 being same\n",
    "5. poly1 and poly2 with same magnitude but opposite constant signs\n",
    "\n",
    "(add more if required)\n",
    "\n",
    "\n",
    "Create a test case of each of the above scenarios. We'll express our test cases as dictionaries, to test them easily. Each dictionary will contain 2 keys: `input` (a dictionary itself containing one key for each argument to the function and `output` (the expected result from the function). "
   ]
  },
  {
   "cell_type": "code",
   "execution_count": 8,
   "id": "fancy-exhaust",
   "metadata": {},
   "outputs": [],
   "source": [
    "test0 = {\n",
    "    'input': {\n",
    "        'poly1': [2, 0, 5, 7],\n",
    "        'poly2': [3, 4, 2]\n",
    "    },\n",
    "    'output': [6, 8, 19, 41, 38, 14]\n",
    "}"
   ]
  },
  {
   "cell_type": "code",
   "execution_count": 9,
   "id": "featured-poster",
   "metadata": {},
   "outputs": [],
   "source": [
    "test1 = {\n",
    "    'input': {\n",
    "        'poly1': [6],\n",
    "        'poly2': [7]\n",
    "    },\n",
    "    'output': [42]\n",
    "}"
   ]
  },
  {
   "cell_type": "code",
   "execution_count": 10,
   "id": "matched-horizon",
   "metadata": {},
   "outputs": [],
   "source": [
    "test2 = {\n",
    "    'input': {\n",
    "        'poly1': [],\n",
    "        'poly2': []\n",
    "    },\n",
    "    'output': []\n",
    "}"
   ]
  },
  {
   "cell_type": "code",
   "execution_count": 55,
   "id": "functional-personal",
   "metadata": {},
   "outputs": [],
   "source": [
    "test3 = {\n",
    "    'input': {\n",
    "        'poly1': [2,1],\n",
    "        'poly2': [2,1]\n",
    "    },\n",
    "    'output': [4,4,1]\n",
    "}"
   ]
  },
  {
   "cell_type": "code",
   "execution_count": 65,
   "id": "useful-alaska",
   "metadata": {},
   "outputs": [],
   "source": [
    "test4 = {\n",
    "    'input': {\n",
    "        'poly1': [3,2],\n",
    "        'poly2': [-3,2]\n",
    "    },\n",
    "    'output': [-9,0,4]\n",
    "}"
   ]
  },
  {
   "cell_type": "code",
   "execution_count": 66,
   "id": "split-opportunity",
   "metadata": {},
   "outputs": [],
   "source": [
    "test5 = {\n",
    "    'input': {\n",
    "        'poly1': [-1,1],\n",
    "        'poly2': [1,1,1]\n",
    "    },\n",
    "    'output': [-1,0,0,1]\n",
    "}"
   ]
  },
  {
   "cell_type": "code",
   "execution_count": null,
   "id": "promotional-donor",
   "metadata": {},
   "outputs": [],
   "source": [
    "# add more if required"
   ]
  },
  {
   "cell_type": "code",
   "execution_count": null,
   "id": "visible-object",
   "metadata": {},
   "outputs": [],
   "source": []
  },
  {
   "cell_type": "code",
   "execution_count": null,
   "id": "little-dating",
   "metadata": {},
   "outputs": [],
   "source": []
  },
  {
   "cell_type": "markdown",
   "id": "extreme-membrane",
   "metadata": {},
   "source": [
    "Let's store all the test cases in a list, for easier automated testing."
   ]
  },
  {
   "cell_type": "code",
   "execution_count": 67,
   "id": "emerging-request",
   "metadata": {},
   "outputs": [],
   "source": [
    "tests = [test0,test1,test2,test3,test4,test5]"
   ]
  },
  {
   "cell_type": "code",
   "execution_count": 68,
   "id": "noted-tribute",
   "metadata": {},
   "outputs": [
    {
     "data": {
      "text/plain": [
       "[{'input': {'poly1': [2, 0, 5, 7], 'poly2': [3, 4, 2]},\n",
       "  'output': [6, 8, 19, 41, 38, 14]},\n",
       " {'input': {'poly1': [6], 'poly2': [7]}, 'output': [42]},\n",
       " {'input': {'poly1': [], 'poly2': []}, 'output': []},\n",
       " {'input': {'poly1': [2, 1], 'poly2': [2, 1]}, 'output': [4, 4, 1]},\n",
       " {'input': {'poly1': [3, 2], 'poly2': [-3, 2]}, 'output': [-9, 0, 4]},\n",
       " {'input': {'poly1': [-1, 1], 'poly2': [1, 1, 1]}, 'output': [-1, 0, 0, 1]}]"
      ]
     },
     "execution_count": 68,
     "metadata": {},
     "output_type": "execute_result"
    }
   ],
   "source": [
    "tests"
   ]
  },
  {
   "cell_type": "code",
   "execution_count": null,
   "id": "demanding-throw",
   "metadata": {},
   "outputs": [],
   "source": []
  },
  {
   "cell_type": "code",
   "execution_count": null,
   "id": "ongoing-bunch",
   "metadata": {},
   "outputs": [],
   "source": []
  },
  {
   "cell_type": "code",
   "execution_count": 69,
   "id": "connected-favor",
   "metadata": {},
   "outputs": [],
   "source": [
    "import jovian"
   ]
  },
  {
   "cell_type": "code",
   "execution_count": 70,
   "id": "brave-bracelet",
   "metadata": {},
   "outputs": [
    {
     "data": {
      "application/javascript": [
       "window.require && require([\"base/js/namespace\"],function(Jupyter){Jupyter.notebook.save_checkpoint()})"
      ],
      "text/plain": [
       "<IPython.core.display.Javascript object>"
      ]
     },
     "metadata": {},
     "output_type": "display_data"
    },
    {
     "name": "stdout",
     "output_type": "stream",
     "text": [
      "[jovian] Updating notebook \"vinayganapathy/python-divide-and-conquer-assignment\" on https://jovian.ai\u001b[0m\n",
      "[jovian] Committed successfully! https://jovian.ai/vinayganapathy/python-divide-and-conquer-assignment\u001b[0m\n"
     ]
    },
    {
     "data": {
      "text/plain": [
       "'https://jovian.ai/vinayganapathy/python-divide-and-conquer-assignment'"
      ]
     },
     "execution_count": 70,
     "metadata": {},
     "output_type": "execute_result"
    }
   ],
   "source": [
    "jovian.commit()"
   ]
  },
  {
   "cell_type": "markdown",
   "id": "satellite-exclusion",
   "metadata": {},
   "source": [
    "### 3. Come up with a correct solution for the problem. State it in plain English.\n",
    "\n",
    "Our first goal should always be to come up with a _correct_ solution to the problem, which may not necessarily be the most _efficient_ solution. \n",
    "\n",
    "Here's the simplest solution: If you have lists `poly1` and `poly2` representing polynomials of length $m$ and $n$ respectively, the highest degree of the exponents are $m-1$ and $n-1$ respectively. Their product has the degree $(m - 1) + (n - 1)$ i.e $m + n - 2$. The list representing the product has the length $m + n - 1$. So, we can create a list `result` of length $m + n - 1$, and set \n",
    "\n",
    "`result[k]` = Sum of all the pairs `poly1[i] * poly2[j]` where `i+j = k`\n",
    "\n",
    "Example:\n",
    "\n",
    "$(2 + 5x^2 + 7x^3) \\times (3 + 4x + 2x^2)$\n",
    "\n",
    "$= (2 \\times 3) + (2 \\times 4 + 0 \\times 3)x + (2 \\times 2 + 3 \\times 5 + 4 \\times 0)x^2 + (7 \\times 3 + 5 \\times 4 + 0 \\times 2)x^3 + (7 \\times 4 + 5 \\times 2)x^4 + (7 \\times 2)x^5$\n",
    "\n",
    "$= 6 + 8x + 19x^2 + 41x^3 + 38x^4 + 14x^5$\n",
    "\n",
    "\n",
    "\n",
    "\n",
    "\n",
    "\n",
    "Explain this solution in your own words below:\n",
    "\n",
    "1. poly1 of length $4$ and highest degree $3$ and poly2 of length $3$ and highest degree $2$ .\n",
    "2. Their product will have the degree $5$ and length $6$\n",
    "3. Create a list result with length $6$\n",
    "4. result [k] =summation( poly1[i] * poly2[j])\n",
    "5. where k=i+j\n",
    "\n",
    "(add more steps if required)\n",
    "\n",
    "\n",
    "Let's save and upload our work before continuing.\n",
    "\n"
   ]
  },
  {
   "cell_type": "code",
   "execution_count": 71,
   "id": "relevant-initial",
   "metadata": {},
   "outputs": [],
   "source": [
    "import jovian"
   ]
  },
  {
   "cell_type": "code",
   "execution_count": 72,
   "id": "fatty-rolling",
   "metadata": {},
   "outputs": [
    {
     "data": {
      "application/javascript": [
       "window.require && require([\"base/js/namespace\"],function(Jupyter){Jupyter.notebook.save_checkpoint()})"
      ],
      "text/plain": [
       "<IPython.core.display.Javascript object>"
      ]
     },
     "metadata": {},
     "output_type": "display_data"
    },
    {
     "name": "stdout",
     "output_type": "stream",
     "text": [
      "[jovian] Updating notebook \"vinayganapathy/python-divide-and-conquer-assignment\" on https://jovian.ai\u001b[0m\n",
      "[jovian] Committed successfully! https://jovian.ai/vinayganapathy/python-divide-and-conquer-assignment\u001b[0m\n"
     ]
    },
    {
     "data": {
      "text/plain": [
       "'https://jovian.ai/vinayganapathy/python-divide-and-conquer-assignment'"
      ]
     },
     "execution_count": 72,
     "metadata": {},
     "output_type": "execute_result"
    }
   ],
   "source": [
    "jovian.commit()"
   ]
  },
  {
   "cell_type": "markdown",
   "id": "lucky-boxing",
   "metadata": {},
   "source": [
    "###  4. Implement the solution and test it using example inputs. Fix bugs, if any.\n",
    "\n",
    "Implement the solution"
   ]
  },
  {
   "cell_type": "code",
   "execution_count": 73,
   "id": "grateful-chile",
   "metadata": {},
   "outputs": [],
   "source": [
    "def multiply_basic(poly1, poly2):\n",
    "    m = len(poly1)\n",
    "    n = len(poly2)\n",
    "    \n",
    "    prod = [0]*(m+n-1)\n",
    "    \n",
    "    for i in range(m):\n",
    "        for j in range(n):\n",
    "            prod[i+j]+= poly1[i] * poly2[j]\n",
    "    return prod"
   ]
  },
  {
   "cell_type": "markdown",
   "id": "casual-bicycle",
   "metadata": {},
   "source": [
    "Test your solution using the test cases you've defined above."
   ]
  },
  {
   "cell_type": "code",
   "execution_count": 74,
   "id": "sunset-motor",
   "metadata": {},
   "outputs": [],
   "source": [
    "from jovian.pythondsa import evaluate_test_cases"
   ]
  },
  {
   "cell_type": "code",
   "execution_count": 75,
   "id": "earned-sending",
   "metadata": {},
   "outputs": [
    {
     "name": "stdout",
     "output_type": "stream",
     "text": [
      "\n",
      "\u001b[1mTEST CASE #0\u001b[0m\n",
      "\n",
      "Input:\n",
      "{'poly1': [2, 0, 5, 7], 'poly2': [3, 4, 2]}\n",
      "\n",
      "Expected Output:\n",
      "[6, 8, 19, 41, 38, 14]\n",
      "\n",
      "\n",
      "Actual Output:\n",
      "[6, 8, 19, 41, 38, 14]\n",
      "\n",
      "Execution Time:\n",
      "0.014 ms\n",
      "\n",
      "Test Result:\n",
      "\u001b[92mPASSED\u001b[0m\n",
      "\n",
      "\n",
      "\u001b[1mTEST CASE #1\u001b[0m\n",
      "\n",
      "Input:\n",
      "{'poly1': [6], 'poly2': [7]}\n",
      "\n",
      "Expected Output:\n",
      "[42]\n",
      "\n",
      "\n",
      "Actual Output:\n",
      "[42]\n",
      "\n",
      "Execution Time:\n",
      "0.007 ms\n",
      "\n",
      "Test Result:\n",
      "\u001b[92mPASSED\u001b[0m\n",
      "\n",
      "\n",
      "\u001b[1mTEST CASE #2\u001b[0m\n",
      "\n",
      "Input:\n",
      "{'poly1': [], 'poly2': []}\n",
      "\n",
      "Expected Output:\n",
      "[]\n",
      "\n",
      "\n",
      "Actual Output:\n",
      "[]\n",
      "\n",
      "Execution Time:\n",
      "0.004 ms\n",
      "\n",
      "Test Result:\n",
      "\u001b[92mPASSED\u001b[0m\n",
      "\n",
      "\n",
      "\u001b[1mTEST CASE #3\u001b[0m\n",
      "\n",
      "Input:\n",
      "{'poly1': [2, 1], 'poly2': [2, 1]}\n",
      "\n",
      "Expected Output:\n",
      "[4, 4, 1]\n",
      "\n",
      "\n",
      "Actual Output:\n",
      "[4, 4, 1]\n",
      "\n",
      "Execution Time:\n",
      "0.005 ms\n",
      "\n",
      "Test Result:\n",
      "\u001b[92mPASSED\u001b[0m\n",
      "\n",
      "\n",
      "\u001b[1mTEST CASE #4\u001b[0m\n",
      "\n",
      "Input:\n",
      "{'poly1': [3, 2], 'poly2': [-3, 2]}\n",
      "\n",
      "Expected Output:\n",
      "[-9, 0, 4]\n",
      "\n",
      "\n",
      "Actual Output:\n",
      "[-9, 0, 4]\n",
      "\n",
      "Execution Time:\n",
      "0.006 ms\n",
      "\n",
      "Test Result:\n",
      "\u001b[92mPASSED\u001b[0m\n",
      "\n",
      "\n",
      "\u001b[1mTEST CASE #5\u001b[0m\n",
      "\n",
      "Input:\n",
      "{'poly1': [-1, 1], 'poly2': [1, 1, 1]}\n",
      "\n",
      "Expected Output:\n",
      "[-1, 0, 0, 1]\n",
      "\n",
      "\n",
      "Actual Output:\n",
      "[-1, 0, 0, 1]\n",
      "\n",
      "Execution Time:\n",
      "0.009 ms\n",
      "\n",
      "Test Result:\n",
      "\u001b[92mPASSED\u001b[0m\n",
      "\n",
      "\n",
      "\u001b[1mSUMMARY\u001b[0m\n",
      "\n",
      "TOTAL: 6, \u001b[92mPASSED\u001b[0m: 6, \u001b[91mFAILED\u001b[0m: 0\n"
     ]
    },
    {
     "data": {
      "text/plain": [
       "[([6, 8, 19, 41, 38, 14], True, 0.014),\n",
       " ([42], True, 0.007),\n",
       " ([], True, 0.004),\n",
       " ([4, 4, 1], True, 0.005),\n",
       " ([-9, 0, 4], True, 0.006),\n",
       " ([-1, 0, 0, 1], True, 0.009)]"
      ]
     },
     "execution_count": 75,
     "metadata": {},
     "output_type": "execute_result"
    }
   ],
   "source": [
    "evaluate_test_cases(multiply_basic, tests)"
   ]
  },
  {
   "cell_type": "code",
   "execution_count": null,
   "id": "neutral-conducting",
   "metadata": {},
   "outputs": [],
   "source": []
  },
  {
   "cell_type": "code",
   "execution_count": null,
   "id": "southwest-olympus",
   "metadata": {},
   "outputs": [],
   "source": []
  },
  {
   "cell_type": "code",
   "execution_count": null,
   "id": "blind-nitrogen",
   "metadata": {},
   "outputs": [],
   "source": []
  },
  {
   "cell_type": "code",
   "execution_count": 76,
   "id": "lined-expense",
   "metadata": {},
   "outputs": [],
   "source": [
    "import jovian"
   ]
  },
  {
   "cell_type": "code",
   "execution_count": 77,
   "id": "recreational-regulation",
   "metadata": {},
   "outputs": [
    {
     "data": {
      "application/javascript": [
       "window.require && require([\"base/js/namespace\"],function(Jupyter){Jupyter.notebook.save_checkpoint()})"
      ],
      "text/plain": [
       "<IPython.core.display.Javascript object>"
      ]
     },
     "metadata": {},
     "output_type": "display_data"
    },
    {
     "name": "stdout",
     "output_type": "stream",
     "text": [
      "[jovian] Updating notebook \"vinayganapathy/python-divide-and-conquer-assignment\" on https://jovian.ai\u001b[0m\n",
      "[jovian] Committed successfully! https://jovian.ai/vinayganapathy/python-divide-and-conquer-assignment\u001b[0m\n"
     ]
    },
    {
     "data": {
      "text/plain": [
       "'https://jovian.ai/vinayganapathy/python-divide-and-conquer-assignment'"
      ]
     },
     "execution_count": 77,
     "metadata": {},
     "output_type": "execute_result"
    }
   ],
   "source": [
    "jovian.commit()"
   ]
  },
  {
   "cell_type": "markdown",
   "id": "associate-platform",
   "metadata": {},
   "source": [
    "### 5. Analyze the algorithm's complexity and identify inefficiencies, if any.\n",
    "\n",
    "Can you analyze the time and space complexity of this algorithm?"
   ]
  },
  {
   "cell_type": "code",
   "execution_count": 78,
   "id": "aerial-motorcycle",
   "metadata": {},
   "outputs": [],
   "source": [
    "multiply_basic_time_complexity = 'O(N2)'"
   ]
  },
  {
   "cell_type": "code",
   "execution_count": 27,
   "id": "sustained-chicago",
   "metadata": {},
   "outputs": [],
   "source": [
    "multiply_basic_space_complexity = 'O(N2)'"
   ]
  },
  {
   "cell_type": "code",
   "execution_count": null,
   "id": "stunning-paradise",
   "metadata": {},
   "outputs": [],
   "source": []
  },
  {
   "cell_type": "code",
   "execution_count": 79,
   "id": "accompanied-thailand",
   "metadata": {},
   "outputs": [],
   "source": [
    "import jovian"
   ]
  },
  {
   "cell_type": "code",
   "execution_count": 80,
   "id": "egyptian-stranger",
   "metadata": {},
   "outputs": [
    {
     "data": {
      "application/javascript": [
       "window.require && require([\"base/js/namespace\"],function(Jupyter){Jupyter.notebook.save_checkpoint()})"
      ],
      "text/plain": [
       "<IPython.core.display.Javascript object>"
      ]
     },
     "metadata": {},
     "output_type": "display_data"
    },
    {
     "name": "stdout",
     "output_type": "stream",
     "text": [
      "[jovian] Updating notebook \"vinayganapathy/python-divide-and-conquer-assignment\" on https://jovian.ai\u001b[0m\n",
      "[jovian] Committed successfully! https://jovian.ai/vinayganapathy/python-divide-and-conquer-assignment\u001b[0m\n"
     ]
    },
    {
     "data": {
      "text/plain": [
       "'https://jovian.ai/vinayganapathy/python-divide-and-conquer-assignment'"
      ]
     },
     "execution_count": 80,
     "metadata": {},
     "output_type": "execute_result"
    }
   ],
   "source": [
    "jovian.commit()"
   ]
  },
  {
   "cell_type": "markdown",
   "id": "honey-desire",
   "metadata": {},
   "source": [
    "### 6. Apply the right technique to overcome the inefficiency. Repeat steps 3 to 6.\n",
    "\n",
    "We can apply the divide and conquer technique to solve this problem more efficiently. Given two polynomials `A` and `B`, we can express each of them as a sum of two polynomials as follows:\n",
    "\n",
    "<img src=\"https://i.imgur.com/FjKQF5h.png\" width=\"480\">\n",
    "\n",
    "We need to compute the terms `A0 * B0`, `A1 * B0 + A0 * B1` and `A1 * B1`. This can obviously be done using 4 multiplications, but here's a way of doing it with just three multiplications:\n",
    "\n",
    "<img src=\"https://i.imgur.com/G3vD1GX.png\" width=\"480\">\n",
    "\n",
    "\n",
    "Each of the products can themselves be computed recursively. For a more detailed explanation of this approach see http://www.cse.ust.hk/~dekai/271/notes/L03/L03.pdf .\n",
    "\n",
    "\n",
    "Need help? Discuss and ask questions on the forum: https://jovian.ai/forum/c/data-structures-and-algorithms-in-python/assignment-3/89\n"
   ]
  },
  {
   "cell_type": "markdown",
   "id": "parliamentary-spray",
   "metadata": {},
   "source": [
    "### 7. Come up with a correct solution for the problem. State it in plain English.\n",
    "\n",
    "Explain the approach described above in your own words below:\n",
    "\n",
    "1. Divide A polynomial as A0 and A1 and B polynomial as B0 and B1\n",
    "2. Then their product can be written as the sum of 4 terms\n",
    "3. Defining Y,U and Z as given above \n",
    "4. U and Z are required two terms\n",
    "5. The other two terms are obtained by Y-U-Z\n",
    "\n",
    "(add more steps if required)\n",
    "\n",
    "\n",
    "Let's save and upload our work before continuing."
   ]
  },
  {
   "cell_type": "code",
   "execution_count": 81,
   "id": "recreational-occurrence",
   "metadata": {},
   "outputs": [],
   "source": [
    "import jovian"
   ]
  },
  {
   "cell_type": "code",
   "execution_count": 82,
   "id": "flexible-snake",
   "metadata": {},
   "outputs": [
    {
     "data": {
      "application/javascript": [
       "window.require && require([\"base/js/namespace\"],function(Jupyter){Jupyter.notebook.save_checkpoint()})"
      ],
      "text/plain": [
       "<IPython.core.display.Javascript object>"
      ]
     },
     "metadata": {},
     "output_type": "display_data"
    },
    {
     "name": "stdout",
     "output_type": "stream",
     "text": [
      "[jovian] Updating notebook \"vinayganapathy/python-divide-and-conquer-assignment\" on https://jovian.ai\u001b[0m\n",
      "[jovian] Committed successfully! https://jovian.ai/vinayganapathy/python-divide-and-conquer-assignment\u001b[0m\n"
     ]
    },
    {
     "data": {
      "text/plain": [
       "'https://jovian.ai/vinayganapathy/python-divide-and-conquer-assignment'"
      ]
     },
     "execution_count": 82,
     "metadata": {},
     "output_type": "execute_result"
    }
   ],
   "source": [
    "jovian.commit()"
   ]
  },
  {
   "cell_type": "markdown",
   "id": "corresponding-gasoline",
   "metadata": {},
   "source": [
    "### 8. Implement the solution and test it using example inputs. Fix bugs, if any.\n",
    "\n",
    "We are now ready to implement the solution. You may find the following functions `add`, `split` and `increase_exponent` useful.\n"
   ]
  },
  {
   "cell_type": "code",
   "execution_count": 95,
   "id": "planned-budapest",
   "metadata": {},
   "outputs": [],
   "source": [
    "def add(poly1, poly2):\n",
    "    \"\"\"Add two polynomials\"\"\"\n",
    "    result = [0] * max(len(poly1), len(poly2))\n",
    "    for i in range(len(result)):\n",
    "        if i < len(poly1):\n",
    "            result[i] += poly1[i]\n",
    "        if i < len(poly2):\n",
    "            result[i] += poly2[i]\n",
    "    return result"
   ]
  },
  {
   "cell_type": "code",
   "execution_count": 97,
   "id": "amazing-sympathy",
   "metadata": {},
   "outputs": [
    {
     "data": {
      "text/plain": [
       "[1, 6, 6, 4]"
      ]
     },
     "execution_count": 97,
     "metadata": {},
     "output_type": "execute_result"
    }
   ],
   "source": [
    "add([1, 2, 3, 4], [0, 4, 3])"
   ]
  },
  {
   "cell_type": "code",
   "execution_count": 84,
   "id": "objective-stone",
   "metadata": {},
   "outputs": [],
   "source": [
    "def split(poly1, poly2):\n",
    "    \"\"\"Split each polynomial into two smaller polynomials\"\"\"\n",
    "    mid = max(len(poly1), len(poly2)) // 2\n",
    "    return  (poly1[:mid], poly1[mid:]), (poly2[:mid], poly2[mid:])"
   ]
  },
  {
   "cell_type": "code",
   "execution_count": 35,
   "id": "saving-folder",
   "metadata": {},
   "outputs": [
    {
     "data": {
      "text/plain": [
       "(([1, 2, 3], [4]), ([0, 4, 3], [6, 7, 8, 2]))"
      ]
     },
     "execution_count": 35,
     "metadata": {},
     "output_type": "execute_result"
    }
   ],
   "source": [
    "split([1, 2, 3, 4], [0, 4, 3, 6, 7, 8, 2])"
   ]
  },
  {
   "cell_type": "code",
   "execution_count": 36,
   "id": "ethical-bradford",
   "metadata": {},
   "outputs": [],
   "source": [
    "def increase_exponent(poly, n):\n",
    "    \"\"\"Multiply poly1 by x^n\"\"\"\n",
    "    return [0] * n + poly"
   ]
  },
  {
   "cell_type": "code",
   "execution_count": 37,
   "id": "saving-arrangement",
   "metadata": {},
   "outputs": [
    {
     "data": {
      "text/plain": [
       "[0, 0, 0, 1, 2, 3, 4]"
      ]
     },
     "execution_count": 37,
     "metadata": {},
     "output_type": "execute_result"
    }
   ],
   "source": [
    "increase_exponent([1, 2, 3, 4], 3)"
   ]
  },
  {
   "cell_type": "markdown",
   "id": "under-effectiveness",
   "metadata": {},
   "source": [
    "Implement the optimized multiplication algorithm below. You may use the some or all of the helper functions defined above."
   ]
  },
  {
   "cell_type": "code",
   "execution_count": 98,
   "id": "starting-characterization",
   "metadata": {},
   "outputs": [],
   "source": [
    "def multiply_optimized(poly1, poly2):\n",
    "    \n",
    "    (poly1a0,poly1a1),(poly2b0,poly2b1) = split(poly1,poly2)\n",
    "    poly1a1 = increase_exponent(poly1a1, len(poly1a0))\n",
    "    poly2b1 = increase_exponent(poly2b1, len(poly2b0)) \n",
    "    Y = add(multiply_basic(poly1a0,poly1a1),multiply_basic(poly2b0,poly2b1))\n",
    "    U = multiply_basic(poly1a0,poly2b0)\n",
    "    Z = multiply_basic(poly1a1,poly2b1)\n",
    "    YUZ = add(multiply_basic(poly1a0,poly2b1),multiply_basic(poly1a1,poly2b0))\n",
    "    result=add(add(U,Z), YUZ)\n",
    "    return result"
   ]
  },
  {
   "cell_type": "code",
   "execution_count": null,
   "id": "delayed-terrace",
   "metadata": {},
   "outputs": [],
   "source": []
  },
  {
   "cell_type": "markdown",
   "id": "novel-scout",
   "metadata": {},
   "source": [
    "Test your solution using the empty cells below."
   ]
  },
  {
   "cell_type": "code",
   "execution_count": 99,
   "id": "operating-ecology",
   "metadata": {},
   "outputs": [],
   "source": [
    "from jovian.pythondsa import evaluate_test_cases"
   ]
  },
  {
   "cell_type": "code",
   "execution_count": 100,
   "id": "adverse-tamil",
   "metadata": {},
   "outputs": [
    {
     "name": "stdout",
     "output_type": "stream",
     "text": [
      "\n",
      "\u001b[1mTEST CASE #0\u001b[0m\n",
      "\n",
      "Input:\n",
      "{'poly1': [2, 0, 5, 7], 'poly2': [3, 4, 2]}\n",
      "\n",
      "Expected Output:\n",
      "[6, 8, 19, 41, 38, 14]\n",
      "\n",
      "\n",
      "Actual Output:\n",
      "[6, 8, 19, 41, 38, 14]\n",
      "\n",
      "Execution Time:\n",
      "0.053 ms\n",
      "\n",
      "Test Result:\n",
      "\u001b[92mPASSED\u001b[0m\n",
      "\n",
      "\n",
      "\u001b[1mTEST CASE #1\u001b[0m\n",
      "\n",
      "Input:\n",
      "{'poly1': [6], 'poly2': [7]}\n",
      "\n",
      "Expected Output:\n",
      "[42]\n",
      "\n",
      "\n",
      "Actual Output:\n",
      "[42]\n",
      "\n",
      "Execution Time:\n",
      "0.023 ms\n",
      "\n",
      "Test Result:\n",
      "\u001b[92mPASSED\u001b[0m\n",
      "\n",
      "\n",
      "\u001b[1mTEST CASE #2\u001b[0m\n",
      "\n",
      "Input:\n",
      "{'poly1': [], 'poly2': []}\n",
      "\n",
      "Expected Output:\n",
      "[]\n",
      "\n",
      "\n",
      "Actual Output:\n",
      "[]\n",
      "\n",
      "Execution Time:\n",
      "0.015 ms\n",
      "\n",
      "Test Result:\n",
      "\u001b[92mPASSED\u001b[0m\n",
      "\n",
      "\n",
      "\u001b[1mTEST CASE #3\u001b[0m\n",
      "\n",
      "Input:\n",
      "{'poly1': [2, 1], 'poly2': [2, 1]}\n",
      "\n",
      "Expected Output:\n",
      "[4, 4, 1]\n",
      "\n",
      "\n",
      "Actual Output:\n",
      "[4, 4, 1]\n",
      "\n",
      "Execution Time:\n",
      "0.028 ms\n",
      "\n",
      "Test Result:\n",
      "\u001b[92mPASSED\u001b[0m\n",
      "\n",
      "\n",
      "\u001b[1mTEST CASE #4\u001b[0m\n",
      "\n",
      "Input:\n",
      "{'poly1': [3, 2], 'poly2': [-3, 2]}\n",
      "\n",
      "Expected Output:\n",
      "[-9, 0, 4]\n",
      "\n",
      "\n",
      "Actual Output:\n",
      "[-9, 0, 4]\n",
      "\n",
      "Execution Time:\n",
      "0.028 ms\n",
      "\n",
      "Test Result:\n",
      "\u001b[92mPASSED\u001b[0m\n",
      "\n",
      "\n",
      "\u001b[1mTEST CASE #5\u001b[0m\n",
      "\n",
      "Input:\n",
      "{'poly1': [-1, 1], 'poly2': [1, 1, 1]}\n",
      "\n",
      "Expected Output:\n",
      "[-1, 0, 0, 1]\n",
      "\n",
      "\n",
      "Actual Output:\n",
      "[-1, 0, 0, 1]\n",
      "\n",
      "Execution Time:\n",
      "0.028 ms\n",
      "\n",
      "Test Result:\n",
      "\u001b[92mPASSED\u001b[0m\n",
      "\n",
      "\n",
      "\u001b[1mSUMMARY\u001b[0m\n",
      "\n",
      "TOTAL: 6, \u001b[92mPASSED\u001b[0m: 6, \u001b[91mFAILED\u001b[0m: 0\n"
     ]
    },
    {
     "data": {
      "text/plain": [
       "[([6, 8, 19, 41, 38, 14], True, 0.053),\n",
       " ([42], True, 0.023),\n",
       " ([], True, 0.015),\n",
       " ([4, 4, 1], True, 0.028),\n",
       " ([-9, 0, 4], True, 0.028),\n",
       " ([-1, 0, 0, 1], True, 0.028)]"
      ]
     },
     "execution_count": 100,
     "metadata": {},
     "output_type": "execute_result"
    }
   ],
   "source": [
    "evaluate_test_cases(multiply_optimized, tests)"
   ]
  },
  {
   "cell_type": "code",
   "execution_count": null,
   "id": "local-pharmacology",
   "metadata": {},
   "outputs": [],
   "source": []
  },
  {
   "cell_type": "code",
   "execution_count": null,
   "id": "treated-hayes",
   "metadata": {},
   "outputs": [],
   "source": []
  },
  {
   "cell_type": "code",
   "execution_count": null,
   "id": "maritime-yorkshire",
   "metadata": {},
   "outputs": [],
   "source": []
  },
  {
   "cell_type": "code",
   "execution_count": null,
   "id": "southwest-aluminum",
   "metadata": {},
   "outputs": [],
   "source": []
  },
  {
   "cell_type": "code",
   "execution_count": 101,
   "id": "stable-korea",
   "metadata": {},
   "outputs": [],
   "source": [
    "import jovian"
   ]
  },
  {
   "cell_type": "code",
   "execution_count": 102,
   "id": "nominated-thousand",
   "metadata": {},
   "outputs": [
    {
     "data": {
      "application/javascript": [
       "window.require && require([\"base/js/namespace\"],function(Jupyter){Jupyter.notebook.save_checkpoint()})"
      ],
      "text/plain": [
       "<IPython.core.display.Javascript object>"
      ]
     },
     "metadata": {},
     "output_type": "display_data"
    },
    {
     "name": "stdout",
     "output_type": "stream",
     "text": [
      "[jovian] Updating notebook \"vinayganapathy/python-divide-and-conquer-assignment\" on https://jovian.ai\u001b[0m\n",
      "[jovian] Committed successfully! https://jovian.ai/vinayganapathy/python-divide-and-conquer-assignment\u001b[0m\n"
     ]
    },
    {
     "data": {
      "text/plain": [
       "'https://jovian.ai/vinayganapathy/python-divide-and-conquer-assignment'"
      ]
     },
     "execution_count": 102,
     "metadata": {},
     "output_type": "execute_result"
    }
   ],
   "source": [
    "jovian.commit()"
   ]
  },
  {
   "cell_type": "markdown",
   "id": "documented-leisure",
   "metadata": {},
   "source": [
    "## Make a Submission\n",
    "\n",
    "Congrats! You have now implemented hash tables from scratch. The rest of this assignment is optional.\n",
    "\n",
    "You can make a submission on this page: https://jovian.ai/learn/data-structures-and-algorithms-in-python/assignment/assignment-3-sorting-and-divide-conquer-practice\n",
    "\n",
    "Submit the link to your Jovian notebook (the output of the previous cell).\n",
    "You can also make a direct submission by executing the following cell:"
   ]
  },
  {
   "cell_type": "code",
   "execution_count": 103,
   "id": "superior-windows",
   "metadata": {},
   "outputs": [
    {
     "data": {
      "application/javascript": [
       "window.require && require([\"base/js/namespace\"],function(Jupyter){Jupyter.notebook.save_checkpoint()})"
      ],
      "text/plain": [
       "<IPython.core.display.Javascript object>"
      ]
     },
     "metadata": {},
     "output_type": "display_data"
    },
    {
     "name": "stdout",
     "output_type": "stream",
     "text": [
      "[jovian] Updating notebook \"vinayganapathy/python-divide-and-conquer-assignment\" on https://jovian.ai\u001b[0m\n",
      "[jovian] Committed successfully! https://jovian.ai/vinayganapathy/python-divide-and-conquer-assignment\u001b[0m\n",
      "[jovian] Submitting assignment..\u001b[0m\n",
      "[jovian] Verify your submission at https://jovian.ai/learn/data-structures-and-algorithms-in-python/assignment/assignment-3-sorting-and-divide-conquer-practice\u001b[0m\n"
     ]
    }
   ],
   "source": [
    "jovian.submit(assignment=\"pythondsa-assignment3\")"
   ]
  },
  {
   "cell_type": "markdown",
   "id": "early-norfolk",
   "metadata": {},
   "source": [
    "### (Optional) 9. Analyze the algorithm's complexity and identify inefficiencies, if any.\n",
    "\n",
    "Can you analyze the time and space complexity of this algorithm? \n",
    "\n",
    "Hint: See the tree of subproblems below ([source](https://myithelpcentral.blogspot.com/2015/09/o-logn-notation-explanation-for-binary.html)). Substitute the right values for `n` and `b` to determine the time complexity.\n",
    "\n",
    "![](https://i.imgur.com/JAmZrE5.png)"
   ]
  },
  {
   "cell_type": "code",
   "execution_count": 104,
   "id": "controlling-merchandise",
   "metadata": {},
   "outputs": [],
   "source": [
    "import jovian"
   ]
  },
  {
   "cell_type": "code",
   "execution_count": null,
   "id": "ranging-testing",
   "metadata": {},
   "outputs": [
    {
     "data": {
      "application/javascript": [
       "window.require && require([\"base/js/namespace\"],function(Jupyter){Jupyter.notebook.save_checkpoint()})"
      ],
      "text/plain": [
       "<IPython.core.display.Javascript object>"
      ]
     },
     "metadata": {},
     "output_type": "display_data"
    }
   ],
   "source": [
    "jovian.commit()"
   ]
  },
  {
   "cell_type": "code",
   "execution_count": null,
   "id": "bbcbe2a6",
   "metadata": {},
   "outputs": [],
   "source": []
  }
 ],
 "metadata": {
  "kernelspec": {
   "display_name": "Python 3 (ipykernel)",
   "language": "python",
   "name": "python3"
  },
  "language_info": {
   "codemirror_mode": {
    "name": "ipython",
    "version": 3
   },
   "file_extension": ".py",
   "mimetype": "text/x-python",
   "name": "python",
   "nbconvert_exporter": "python",
   "pygments_lexer": "ipython3",
   "version": "3.9.6"
  }
 },
 "nbformat": 4,
 "nbformat_minor": 5
}
