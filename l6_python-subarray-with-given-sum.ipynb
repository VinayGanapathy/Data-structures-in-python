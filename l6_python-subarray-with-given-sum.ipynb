{
 "cells": [
  {
   "cell_type": "markdown",
   "metadata": {},
   "source": [
    "# Subarray with Given Sum\n",
    "\n",
    "The following question was asked during a coding interview for Amazon:\n",
    "\n",
    "> You are given an array of numbers (non-negative). Find a continuous subarray of the list which adds up to a given sum. \n",
    "\n",
    "\n",
    "![](https://i.imgur.com/tLEBF7x.png)"
   ]
  },
  {
   "cell_type": "code",
   "execution_count": 2,
   "metadata": {},
   "outputs": [
    {
     "data": {
      "text/plain": [
       "[4, 2, 1, 3]"
      ]
     },
     "execution_count": 2,
     "metadata": {},
     "output_type": "execute_result"
    }
   ],
   "source": [
    "l1 = [1,7,4,2,1,3,11,5]\n",
    "i,j = 2,6\n",
    "l1[2:6]"
   ]
  },
  {
   "cell_type": "code",
   "execution_count": 3,
   "metadata": {},
   "outputs": [
    {
     "data": {
      "text/plain": [
       "10"
      ]
     },
     "execution_count": 3,
     "metadata": {},
     "output_type": "execute_result"
    }
   ],
   "source": [
    "l1 = [1,7,4,2,1,3,11,5]\n",
    "i,j = 2,6\n",
    "sum(l1[2:6])"
   ]
  },
  {
   "cell_type": "code",
   "execution_count": 28,
   "metadata": {},
   "outputs": [],
   "source": [
    "# Solve the problem here\n",
    "arr0 = [1,7,4,2,1,3,11,5]\n",
    "target0 = 10\n",
    "output0 = 2,6\n",
    "\n",
    "def subarray_sum(arr, target):\n",
    "    pass\n",
    "\n",
    "\"\"\"\n",
    "1. Generic array where the subarry is in the center\n",
    "2. Subarray could be at the start\n",
    "3. Subarray could be at the end\n",
    "4. There is not subarray that add up to the target value\n",
    "5. One could have a few zeros in the list\n",
    "6. There are multiple aubarrarys with the same sum value\n",
    "7. Empty array\n",
    "8. Subarray is a single element\n",
    "\"\"\"\n",
    "\n",
    "def subarray_sum1(arr, target):\n",
    "    n = len(arr)\n",
    "    # i goes from 0 to n-1\n",
    "    for i in range(0,n):\n",
    "        # j goes from i to n\n",
    "        for j in range(i, n+1):\n",
    "            # check if subarray sum equal target\n",
    "            if sum(arr[i:j]) == target:\n",
    "                #answer found\n",
    "                return i,j\n",
    "    return None, None\n",
    "\n",
    "# maintain a running sum\n",
    "# when the sum exceeds the target, break the inner loop\n",
    "def subarray_sum2(arr, target):\n",
    "    n = len(arr)\n",
    "    # i goes from 0 to n-1\n",
    "    for i in range(0,n):\n",
    "        s = 0 # running sum\n",
    "        # j goes from i to n\n",
    "        for j in range(i, n+1):\n",
    "            if s == target:\n",
    "                #answer found\n",
    "                return i,j\n",
    "            elif s > target:\n",
    "                break\n",
    "            if j < n :\n",
    "                s += arr[j]             \n",
    "    return None, None\n",
    "\n",
    "def subarray_sum3(arr, target):\n",
    "    n = len(arr)\n",
    "    i,j,s = 0, 0 ,0 \n",
    "    while i < n and j < n+1:\n",
    "        if s == target:\n",
    "            return i,j\n",
    "        elif s < target:\n",
    "            if j < n:\n",
    "                s += arr[j]\n",
    "            j += 1\n",
    "        elif s > target:\n",
    "            s -= arr[i]\n",
    "            i += 1\n",
    "    return None, None"
   ]
  },
  {
   "cell_type": "code",
   "execution_count": 20,
   "metadata": {},
   "outputs": [
    {
     "data": {
      "text/plain": [
       "(2, 6)"
      ]
     },
     "execution_count": 20,
     "metadata": {},
     "output_type": "execute_result"
    }
   ],
   "source": [
    "# Test the solution here\n",
    "arr0 = [1,7,4,2,1,3,11,5]\n",
    "n = len(arr0)\n",
    "# for i in range(0,n+1):\n",
    "#     for j in range(i+1,n):\n",
    "#         print(arr0[i],arr0[j])\n",
    "target0 = 10\n",
    "subarray_sum1(arr0,target0)"
   ]
  },
  {
   "cell_type": "code",
   "execution_count": 29,
   "metadata": {},
   "outputs": [
    {
     "data": {
      "text/plain": [
       "(0, 4)"
      ]
     },
     "execution_count": 29,
     "metadata": {},
     "output_type": "execute_result"
    }
   ],
   "source": [
    "subarray_sum3([4,2,1,3,11,5],target0)"
   ]
  },
  {
   "cell_type": "code",
   "execution_count": 30,
   "metadata": {},
   "outputs": [
    {
     "data": {
      "text/plain": [
       "(1, 6)"
      ]
     },
     "execution_count": 30,
     "metadata": {},
     "output_type": "execute_result"
    }
   ],
   "source": [
    "subarray_sum3([1,7,4,2,1,3],17)"
   ]
  },
  {
   "cell_type": "code",
   "execution_count": 31,
   "metadata": {},
   "outputs": [
    {
     "data": {
      "text/plain": [
       "(2, 6)"
      ]
     },
     "execution_count": 31,
     "metadata": {},
     "output_type": "execute_result"
    }
   ],
   "source": [
    "l1 = subarray_sum3([1,7,4,2,1,3,11,5],target0)\n",
    "l1"
   ]
  },
  {
   "cell_type": "code",
   "execution_count": null,
   "metadata": {},
   "outputs": [],
   "source": []
  },
  {
   "cell_type": "code",
   "execution_count": null,
   "metadata": {},
   "outputs": [],
   "source": []
  },
  {
   "cell_type": "code",
   "execution_count": null,
   "metadata": {},
   "outputs": [],
   "source": [
    "import jovian"
   ]
  },
  {
   "cell_type": "code",
   "execution_count": null,
   "metadata": {},
   "outputs": [],
   "source": [
    "jovian.commit()"
   ]
  },
  {
   "cell_type": "code",
   "execution_count": null,
   "metadata": {},
   "outputs": [],
   "source": []
  },
  {
   "cell_type": "code",
   "execution_count": null,
   "metadata": {},
   "outputs": [],
   "source": []
  },
  {
   "cell_type": "code",
   "execution_count": null,
   "metadata": {},
   "outputs": [],
   "source": []
  },
  {
   "cell_type": "markdown",
   "metadata": {},
   "source": [
    "## Solution\n",
    "\n",
    "Test case:"
   ]
  },
  {
   "cell_type": "code",
   "execution_count": null,
   "metadata": {},
   "outputs": [],
   "source": [
    "arr1 = [1, 7, 4, 2, 1, 3, 11, 5]\n",
    "target1 = 10"
   ]
  },
  {
   "cell_type": "markdown",
   "metadata": {},
   "source": [
    "Brute force $O(n^3)$:"
   ]
  },
  {
   "cell_type": "code",
   "execution_count": null,
   "metadata": {},
   "outputs": [],
   "source": [
    "def subarray_sum1(arr, target):\n",
    "    n = len(arr)\n",
    "    for i in range(n):\n",
    "        for j in range(i, n+1):\n",
    "            if sum(arr[i:j]) == target:\n",
    "                return i, j\n",
    "    return None, None"
   ]
  },
  {
   "cell_type": "code",
   "execution_count": null,
   "metadata": {},
   "outputs": [],
   "source": [
    "i, j = subarray_sum1(arr1, target1)\n",
    "i, j, arr1[i:j]"
   ]
  },
  {
   "cell_type": "markdown",
   "metadata": {},
   "source": [
    "Better brute force $O(n^2)$:"
   ]
  },
  {
   "cell_type": "code",
   "execution_count": null,
   "metadata": {},
   "outputs": [],
   "source": [
    "def subarray_sum2(arr, target):\n",
    "    n = len(arr)\n",
    "    for i in range(n):\n",
    "        s = 0\n",
    "        for j in range(i, n+1):\n",
    "            if s == target:\n",
    "                return i,j\n",
    "            s += arr[j]\n",
    "    return None, None"
   ]
  },
  {
   "cell_type": "code",
   "execution_count": null,
   "metadata": {},
   "outputs": [],
   "source": [
    "i, j = subarray_sum2(arr1, target1)\n",
    "i, j, arr1[i:j]"
   ]
  },
  {
   "cell_type": "markdown",
   "metadata": {},
   "source": [
    "Greedy algorithm $O(n)$:"
   ]
  },
  {
   "cell_type": "code",
   "execution_count": null,
   "metadata": {},
   "outputs": [],
   "source": [
    "def subarray_sum3(arr, target):\n",
    "    n = len(arr)\n",
    "    i, j, s = 0, 0, 0\n",
    "    while i < n and j <= n:\n",
    "        if s == target:\n",
    "            return i, j\n",
    "        elif s < target:\n",
    "            s += arr[j]\n",
    "            j += 1\n",
    "        elif s > target:\n",
    "            s -= arr[i]\n",
    "            i += 1\n",
    "    return None, None\n",
    "        "
   ]
  },
  {
   "cell_type": "code",
   "execution_count": null,
   "metadata": {},
   "outputs": [],
   "source": [
    "i, j = subarray_sum3(arr1, target1)\n",
    "i, j, arr1[i:j]"
   ]
  },
  {
   "cell_type": "code",
   "execution_count": null,
   "metadata": {},
   "outputs": [],
   "source": []
  }
 ],
 "metadata": {
  "kernelspec": {
   "display_name": "Python 3",
   "language": "python",
   "name": "python3"
  },
  "language_info": {
   "codemirror_mode": {
    "name": "ipython",
    "version": 3
   },
   "file_extension": ".py",
   "mimetype": "text/x-python",
   "name": "python",
   "nbconvert_exporter": "python",
   "pygments_lexer": "ipython3",
   "version": "3.8.6"
  }
 },
 "nbformat": 4,
 "nbformat_minor": 5
}
