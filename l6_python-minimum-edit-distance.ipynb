{
 "cells": [
  {
   "cell_type": "markdown",
   "metadata": {},
   "source": [
    "## Minimum Edit Distance\n",
    "\n",
    "The following interview was asked during a coding interview at Google:\n",
    "\n",
    "> Given two strings A and B, find the minimum number of steps required to convert A to B. (each operation is counted as 1 step.) You have the following 3 operations permitted on a word:\n",
    ">\n",
    "> * Insert a character\n",
    "> * Delete a character\n",
    "> * Replace a character\n",
    "\n",
    "Here's a visual representation (source: iDeserve)\n",
    "\n",
    "![](https://www.ideserve.co.in/learn/img/editDistance_0.gif)"
   ]
  },
  {
   "cell_type": "code",
   "execution_count": 5,
   "metadata": {},
   "outputs": [],
   "source": [
    "# Solve the problem here\n",
    "str1 = 'intention'\n",
    "str2 = 'execution'\n",
    "\n",
    "output1 = 5\n",
    "\n",
    "# function signature\n",
    "def min_steps(str1,str2):\n",
    "    pass\n",
    "\n",
    "\"\"\"\n",
    "1. General case (listed above)\n",
    "2. No changes required\n",
    "3. All the characters need to be changed\n",
    "4. Check the strings are of equal length\n",
    "5. Check the strings are of unequal length\n",
    "6. one of the strings is empty\n",
    "7. only deletion, only addition, only swap\n",
    "\n",
    "\"\"\"\n",
    "\n",
    "\"\"\"\n",
    "Recursive solution:\n",
    "1. If the first character is equal, then ignore from both\n",
    "2. if the first character is not equal\n",
    "   - either it has to be deleted\n",
    "     - 1 + recursively solve after ignoring first character of str1\n",
    "   - or swapped\n",
    "     - 1 + recursively solve after ignoring the first character of each\n",
    "   - or a character inserted before\n",
    "     - 1 + recursively solve after ignoring first character of str2\n",
    "\"\"\"\n",
    "\n",
    "def min_steps(str1,str2,i1 = 0,i2 = 0):\n",
    "    if i1 == len(str1):\n",
    "        return len(str2)-i2\n",
    "    elif i2 == len(str2):\n",
    "        return len(str1) - i1\n",
    "    elif str1[i1] == str2[i2]:\n",
    "        return min_steps(str1,str2, i1+1, i2+1)\n",
    "    else:\n",
    "        return 1 + min(min_steps(str1,str2,i1+1,i2),   # deletion\n",
    "                       min_steps(str1,str2,i1+1,i2+1),  # swap\n",
    "                       min_steps(str1,str2,i1,i2+1)) # inserted\n",
    "    "
   ]
  },
  {
   "cell_type": "code",
   "execution_count": 2,
   "metadata": {},
   "outputs": [],
   "source": [
    "# Test the solution here"
   ]
  },
  {
   "cell_type": "code",
   "execution_count": null,
   "metadata": {},
   "outputs": [],
   "source": [
    "\"\"\"\n",
    "1. General case (listed above)\n",
    "2. No changes required\n",
    "3. All the characters need to be changed\n",
    "4. Check the strings are of equal length\n",
    "5. Check the strings are of unequal length\n",
    "6. one of the strings is empty\n",
    "7. only deletion, only addition, only swap\n",
    "\n",
    "\"\"\""
   ]
  },
  {
   "cell_type": "code",
   "execution_count": 8,
   "metadata": {},
   "outputs": [
    {
     "data": {
      "text/plain": [
       "4"
      ]
     },
     "execution_count": 8,
     "metadata": {},
     "output_type": "execute_result"
    }
   ],
   "source": [
    "str1 = 'intention'\n",
    "str2 = 'exception'\n",
    "\n",
    "min_steps(str1,str2)"
   ]
  },
  {
   "cell_type": "code",
   "execution_count": 9,
   "metadata": {},
   "outputs": [
    {
     "data": {
      "text/plain": [
       "5"
      ]
     },
     "execution_count": 9,
     "metadata": {},
     "output_type": "execute_result"
    }
   ],
   "source": [
    "str1 = 'intention'\n",
    "str2 = 'execution'\n",
    "\n",
    "min_steps(str1,str2)"
   ]
  },
  {
   "cell_type": "code",
   "execution_count": 10,
   "metadata": {},
   "outputs": [
    {
     "data": {
      "text/plain": [
       "3"
      ]
     },
     "execution_count": 10,
     "metadata": {},
     "output_type": "execute_result"
    }
   ],
   "source": [
    "str1 = 'int'\n",
    "str2 = ''\n",
    "\n",
    "min_steps(str1,str2)"
   ]
  },
  {
   "cell_type": "code",
   "execution_count": 11,
   "metadata": {},
   "outputs": [
    {
     "data": {
      "text/plain": [
       "3"
      ]
     },
     "execution_count": 11,
     "metadata": {},
     "output_type": "execute_result"
    }
   ],
   "source": [
    "str1 = ''\n",
    "str2 = 'exe'\n",
    "\n",
    "min_steps(str1,str2)"
   ]
  },
  {
   "cell_type": "code",
   "execution_count": 12,
   "metadata": {},
   "outputs": [
    {
     "data": {
      "text/plain": [
       "3"
      ]
     },
     "execution_count": 12,
     "metadata": {},
     "output_type": "execute_result"
    }
   ],
   "source": [
    "str1 = 'int'\n",
    "str2 = 'india'\n",
    "\n",
    "min_steps(str1,str2)"
   ]
  },
  {
   "cell_type": "code",
   "execution_count": 13,
   "metadata": {},
   "outputs": [
    {
     "data": {
      "text/plain": [
       "0"
      ]
     },
     "execution_count": 13,
     "metadata": {},
     "output_type": "execute_result"
    }
   ],
   "source": [
    "str1 = 'saturday'\n",
    "str2 = 'saturday'\n",
    "\n",
    "min_steps(str1,str2)"
   ]
  },
  {
   "cell_type": "code",
   "execution_count": null,
   "metadata": {},
   "outputs": [],
   "source": []
  },
  {
   "cell_type": "code",
   "execution_count": null,
   "metadata": {},
   "outputs": [],
   "source": []
  },
  {
   "cell_type": "code",
   "execution_count": null,
   "metadata": {},
   "outputs": [],
   "source": []
  },
  {
   "cell_type": "code",
   "execution_count": 14,
   "metadata": {},
   "outputs": [],
   "source": [
    "import jovian"
   ]
  },
  {
   "cell_type": "code",
   "execution_count": 15,
   "metadata": {},
   "outputs": [
    {
     "data": {
      "application/javascript": [
       "window.require && require([\"base/js/namespace\"],function(Jupyter){Jupyter.notebook.save_checkpoint()})"
      ],
      "text/plain": [
       "<IPython.core.display.Javascript object>"
      ]
     },
     "metadata": {},
     "output_type": "display_data"
    },
    {
     "name": "stdout",
     "output_type": "stream",
     "text": [
      "[jovian] Committed successfully! https://jovian.ai/vinayganapathy/python-minimum-edit-distance\u001b[0m\n"
     ]
    },
    {
     "data": {
      "text/plain": [
       "'https://jovian.ai/vinayganapathy/python-minimum-edit-distance'"
      ]
     },
     "execution_count": 15,
     "metadata": {},
     "output_type": "execute_result"
    }
   ],
   "source": [
    "jovian.commit()"
   ]
  },
  {
   "cell_type": "markdown",
   "metadata": {},
   "source": [
    "Brute force (recursion - exponential):"
   ]
  },
  {
   "cell_type": "code",
   "execution_count": 27,
   "metadata": {},
   "outputs": [],
   "source": [
    "def min_edit_distance(str1, str2, i1=0, i2=0):\n",
    "    if i1 == len(str1):\n",
    "        return len(str2) - i2\n",
    "    if i2 == len(str2):\n",
    "        return len(str1) - i1\n",
    "    if str1[i1] == str2[i2]:\n",
    "        return min_edit_distance(str1, str2, i1+1, i2+1)\n",
    "    return 1 + min(min_edit_distance(str1, str2, i1, i2+1), # Insert at beginning of str1\n",
    "                   min_edit_distance(str1, str2, i1+1, i2), # Remove from beginning of str1\n",
    "                   min_edit_distance(str1, str2, i1+1, i2+1)) # Swap first character of str1\n",
    "        \n",
    "def min_edit_distance_memo(str1,str2):\n",
    "    memo = {}\n",
    "    def recurse(i1,i2):\n",
    "        key = i1 ,i2\n",
    "        if key in memo:\n",
    "            return memo[key]\n",
    "        elif i1 == len(str1):\n",
    "            memo[key] = len(str2) - i2\n",
    "        elif i2 == len(str2):\n",
    "            memo[key] = len(str1) - i1\n",
    "        elif str1[i1] == str2[i2]:\n",
    "            memo[key] = recurse(i1+1,i2+1)\n",
    "        else:\n",
    "            memo[key] = 1 + min(recurse(i1+1,i2),\n",
    "                                recurse(i1+1,i2+1),\n",
    "                                recurse(i1,i2+1)) \n",
    "        return memo[key]\n",
    "    \n",
    "    return recurse(0,0)\n",
    "            \n",
    "        "
   ]
  },
  {
   "cell_type": "code",
   "execution_count": 13,
   "metadata": {},
   "outputs": [
    {
     "data": {
      "text/plain": [
       "5"
      ]
     },
     "execution_count": 13,
     "metadata": {},
     "output_type": "execute_result"
    }
   ],
   "source": [
    "min_edit_distance('wednesday', 'thursday')"
   ]
  },
  {
   "cell_type": "code",
   "execution_count": 12,
   "metadata": {},
   "outputs": [
    {
     "data": {
      "text/plain": [
       "5"
      ]
     },
     "execution_count": 12,
     "metadata": {},
     "output_type": "execute_result"
    }
   ],
   "source": [
    "min_edit_distance('intention', 'execution')"
   ]
  },
  {
   "cell_type": "markdown",
   "metadata": {},
   "source": [
    "Improved (memoization - $O(n_1*n_2)$):"
   ]
  },
  {
   "cell_type": "code",
   "execution_count": 17,
   "metadata": {},
   "outputs": [],
   "source": [
    "def min_edit_distance2(str1, str2):\n",
    "    memo = {}\n",
    "    def recurse(i1, i2):\n",
    "        key = (i1, i2)\n",
    "        if key in memo:\n",
    "            return memo[key]\n",
    "        elif i1 == len(str1):\n",
    "            memo[key] = len(str2) - i2\n",
    "        elif i2 == len(str2):\n",
    "            memo[key] = len(str1) - i1\n",
    "        elif str1[i1] == str2[i2]:\n",
    "            memo[key] = recurse(i1+1, i2+1)\n",
    "        else:\n",
    "            memo[key] = 1 + min(recurse(i1, i2+1), \n",
    "                                recurse(i1+1, i2), \n",
    "                                recurse(i1+1, i2+1))\n",
    "        return memo[key]\n",
    "    return recurse(0, 0)"
   ]
  },
  {
   "cell_type": "code",
   "execution_count": 25,
   "metadata": {},
   "outputs": [
    {
     "data": {
      "text/plain": [
       "5"
      ]
     },
     "execution_count": 25,
     "metadata": {},
     "output_type": "execute_result"
    }
   ],
   "source": [
    "min_edit_distance2('intention', 'execution')"
   ]
  },
  {
   "cell_type": "code",
   "execution_count": 28,
   "metadata": {},
   "outputs": [
    {
     "data": {
      "text/plain": [
       "5"
      ]
     },
     "execution_count": 28,
     "metadata": {},
     "output_type": "execute_result"
    }
   ],
   "source": [
    "min_edit_distance_memo('intention', 'execution')"
   ]
  },
  {
   "cell_type": "markdown",
   "metadata": {},
   "source": [
    "Best (Dynamic programming - $O(n_1*n_2)$):"
   ]
  },
  {
   "cell_type": "code",
   "execution_count": 28,
   "metadata": {},
   "outputs": [],
   "source": [
    "# left as an exercise"
   ]
  },
  {
   "cell_type": "code",
   "execution_count": null,
   "metadata": {},
   "outputs": [],
   "source": []
  },
  {
   "cell_type": "code",
   "execution_count": null,
   "metadata": {},
   "outputs": [],
   "source": []
  },
  {
   "cell_type": "code",
   "execution_count": 29,
   "metadata": {},
   "outputs": [],
   "source": [
    "import jovian"
   ]
  },
  {
   "cell_type": "code",
   "execution_count": 30,
   "metadata": {},
   "outputs": [
    {
     "data": {
      "application/javascript": [
       "window.require && require([\"base/js/namespace\"],function(Jupyter){Jupyter.notebook.save_checkpoint()})"
      ],
      "text/plain": [
       "<IPython.core.display.Javascript object>"
      ]
     },
     "metadata": {},
     "output_type": "display_data"
    },
    {
     "name": "stdout",
     "output_type": "stream",
     "text": [
      "[jovian] Updating notebook \"vinayganapathy/python-minimum-edit-distance\" on https://jovian.ai\u001b[0m\n",
      "[jovian] Committed successfully! https://jovian.ai/vinayganapathy/python-minimum-edit-distance\u001b[0m\n"
     ]
    },
    {
     "data": {
      "text/plain": [
       "'https://jovian.ai/vinayganapathy/python-minimum-edit-distance'"
      ]
     },
     "execution_count": 30,
     "metadata": {},
     "output_type": "execute_result"
    }
   ],
   "source": [
    "jovian.commit()"
   ]
  },
  {
   "cell_type": "code",
   "execution_count": null,
   "metadata": {},
   "outputs": [],
   "source": []
  }
 ],
 "metadata": {
  "kernelspec": {
   "display_name": "Python 3",
   "language": "python",
   "name": "python3"
  },
  "language_info": {
   "codemirror_mode": {
    "name": "ipython",
    "version": 3
   },
   "file_extension": ".py",
   "mimetype": "text/x-python",
   "name": "python",
   "nbconvert_exporter": "python",
   "pygments_lexer": "ipython3",
   "version": "3.8.6"
  }
 },
 "nbformat": 4,
 "nbformat_minor": 5
}
